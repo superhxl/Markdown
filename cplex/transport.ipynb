{
 "cells": [
  {
   "cell_type": "code",
   "execution_count": 1,
   "metadata": {},
   "outputs": [],
   "source": [
    "# 导入模型库\n",
    "from docplex.mp.model import Model"
   ]
  },
  {
   "cell_type": "code",
   "execution_count": 2,
   "metadata": {},
   "outputs": [],
   "source": [
    "# 已知参数\n",
    "Supply = (60, 55, 51, 43, 41, 52)\n",
    "Demand = (35, 37, 22, 32, 41, 32, 43, 38)\n",
    "Cost = ((6,2,6,7,4,2,9,5),\n",
    "        (4,9,5,3,8,5,8,2),\n",
    "        (5,2,1,9,7,4,3,3),\n",
    "        (7,6,7,3,9,2,7,1),\n",
    "        (2,3,9,5,7,2,6,5),\n",
    "        (5,5,2,2,8,1,4,8))"
   ]
  },
  {
   "cell_type": "code",
   "execution_count": 3,
   "metadata": {},
   "outputs": [],
   "source": [
    "# 创建模型\n",
    "model = Model(\"transport\")"
   ]
  },
  {
   "cell_type": "code",
   "execution_count": 4,
   "metadata": {},
   "outputs": [],
   "source": [
    "# 定义决策变量:索引下标从0开始\n",
    "x = model.continuous_var_matrix(keys1=range(len(Supply)),\n",
    "                                keys2=range(len(Demand)),name=\"x\")"
   ]
  },
  {
   "cell_type": "code",
   "execution_count": 5,
   "metadata": {},
   "outputs": [],
   "source": [
    "# 目标函数\n",
    "model.minimize(model.sum(Cost[i][j] * x[(i,j)] for i in range(len(Supply)) for j in range(len(Demand))))"
   ]
  },
  {
   "cell_type": "code",
   "execution_count": 6,
   "metadata": {},
   "outputs": [
    {
     "data": {
      "text/plain": [
       "docplex.mp.LinearConstraint[Demand0](x_0_0+x_1_0+x_2_0+x_3_0+x_4_0+x_5_0,EQ,35)"
      ]
     },
     "execution_count": 6,
     "metadata": {},
     "output_type": "execute_result"
    },
    {
     "data": {
      "text/plain": [
       "docplex.mp.LinearConstraint[Demand1](x_0_1+x_1_1+x_2_1+x_3_1+x_4_1+x_5_1,EQ,37)"
      ]
     },
     "execution_count": 6,
     "metadata": {},
     "output_type": "execute_result"
    },
    {
     "data": {
      "text/plain": [
       "docplex.mp.LinearConstraint[Demand2](x_0_2+x_1_2+x_2_2+x_3_2+x_4_2+x_5_2,EQ,22)"
      ]
     },
     "execution_count": 6,
     "metadata": {},
     "output_type": "execute_result"
    },
    {
     "data": {
      "text/plain": [
       "docplex.mp.LinearConstraint[Demand3](x_0_3+x_1_3+x_2_3+x_3_3+x_4_3+x_5_3,EQ,32)"
      ]
     },
     "execution_count": 6,
     "metadata": {},
     "output_type": "execute_result"
    },
    {
     "data": {
      "text/plain": [
       "docplex.mp.LinearConstraint[Demand4](x_0_4+x_1_4+x_2_4+x_3_4+x_4_4+x_5_4,EQ,41)"
      ]
     },
     "execution_count": 6,
     "metadata": {},
     "output_type": "execute_result"
    },
    {
     "data": {
      "text/plain": [
       "docplex.mp.LinearConstraint[Demand5](x_0_5+x_1_5+x_2_5+x_3_5+x_4_5+x_5_5,EQ,32)"
      ]
     },
     "execution_count": 6,
     "metadata": {},
     "output_type": "execute_result"
    },
    {
     "data": {
      "text/plain": [
       "docplex.mp.LinearConstraint[Demand6](x_0_6+x_1_6+x_2_6+x_3_6+x_4_6+x_5_6,EQ,43)"
      ]
     },
     "execution_count": 6,
     "metadata": {},
     "output_type": "execute_result"
    },
    {
     "data": {
      "text/plain": [
       "docplex.mp.LinearConstraint[Demand7](x_0_7+x_1_7+x_2_7+x_3_7+x_4_7+x_5_7,EQ,38)"
      ]
     },
     "execution_count": 6,
     "metadata": {},
     "output_type": "execute_result"
    }
   ],
   "source": [
    "# 添加约束条件:需求约束\n",
    "for j, d in enumerate(Demand):\n",
    "    model.add_constraint(model.sum(x[(i, j)] for i in range(len(Supply))) == d,\n",
    "                         ctname=\"Demand%s\" % j)"
   ]
  },
  {
   "cell_type": "code",
   "execution_count": 7,
   "metadata": {},
   "outputs": [
    {
     "data": {
      "text/plain": [
       "docplex.mp.LinearConstraint[Supply0](x_0_0+x_0_1+x_0_2+x_0_3+x_0_4+x_0_5+x_0_6+x_0_7,LE,60)"
      ]
     },
     "execution_count": 7,
     "metadata": {},
     "output_type": "execute_result"
    },
    {
     "data": {
      "text/plain": [
       "docplex.mp.LinearConstraint[Supply1](x_1_0+x_1_1+x_1_2+x_1_3+x_1_4+x_1_5+x_1_6+x_1_7,LE,55)"
      ]
     },
     "execution_count": 7,
     "metadata": {},
     "output_type": "execute_result"
    },
    {
     "data": {
      "text/plain": [
       "docplex.mp.LinearConstraint[Supply2](x_2_0+x_2_1+x_2_2+x_2_3+x_2_4+x_2_5+x_2_6+x_2_7,LE,51)"
      ]
     },
     "execution_count": 7,
     "metadata": {},
     "output_type": "execute_result"
    },
    {
     "data": {
      "text/plain": [
       "docplex.mp.LinearConstraint[Supply3](x_3_0+x_3_1+x_3_2+x_3_3+x_3_4+x_3_5+x_3_6+x_3_7,LE,43)"
      ]
     },
     "execution_count": 7,
     "metadata": {},
     "output_type": "execute_result"
    },
    {
     "data": {
      "text/plain": [
       "docplex.mp.LinearConstraint[Supply4](x_4_0+x_4_1+x_4_2+x_4_3+x_4_4+x_4_5+x_4_6+x_4_7,LE,41)"
      ]
     },
     "execution_count": 7,
     "metadata": {},
     "output_type": "execute_result"
    },
    {
     "data": {
      "text/plain": [
       "docplex.mp.LinearConstraint[Supply5](x_5_0+x_5_1+x_5_2+x_5_3+x_5_4+x_5_5+x_5_6+x_5_7,LE,52)"
      ]
     },
     "execution_count": 7,
     "metadata": {},
     "output_type": "execute_result"
    }
   ],
   "source": [
    "#供给约束\n",
    "for i, s in enumerate(Supply):\n",
    "    model.add_constraint(model.sum(x[(i, j)] for j in range(len(Demand))) <= s,\n",
    "                         ctname=\"Supply%s\" % i)"
   ]
  },
  {
   "cell_type": "code",
   "execution_count": 8,
   "metadata": {},
   "outputs": [
    {
     "data": {
      "text/plain": [
       "'transport.lp'"
      ]
     },
     "execution_count": 8,
     "metadata": {},
     "output_type": "execute_result"
    }
   ],
   "source": [
    "# 导出模型\n",
    "model.export_as_lp(\"transport.lp\")"
   ]
  },
  {
   "cell_type": "code",
   "execution_count": 9,
   "metadata": {},
   "outputs": [],
   "source": [
    "# 模型求解\n",
    "solution = model.solve()"
   ]
  },
  {
   "cell_type": "code",
   "execution_count": 10,
   "metadata": {},
   "outputs": [
    {
     "name": "stdout",
     "output_type": "stream",
     "text": [
      "The optimal objective is: 664.000\n",
      "Solution:\n",
      "    0.00   19.00    0.00    0.00   41.00    0.00    0.00    0.00\n",
      "    1.00    0.00    0.00   32.00    0.00    0.00    0.00    0.00\n",
      "    0.00   11.00    0.00    0.00    0.00    0.00   40.00    0.00\n",
      "    0.00    0.00    0.00    0.00    0.00    5.00    0.00   38.00\n",
      "   34.00    7.00    0.00    0.00    0.00    0.00    0.00    0.00\n",
      "    0.00    0.00   22.00    0.00    0.00   27.00    3.00    0.00\n"
     ]
    }
   ],
   "source": [
    "from sys import stdout\n",
    "if solution:\n",
    "    print(\"The optimal objective is: %6.3f\" % solution.objective_value)\n",
    "    stdout.write(\"Solution:\\n\")\n",
    "    for i in range(len(Supply)):\n",
    "        for j in range(len(Demand)):\n",
    "            stdout.write(\"  %6.2f\" % (solution[x[(i,j)]],))\n",
    "        stdout.write(\"\\n\")\n",
    "else:\n",
    "    stdout.write(\"Solve status:\" + solution.get_solve_status() + \"\\n\") "
   ]
  }
 ],
 "metadata": {
  "kernelspec": {
   "display_name": "Python 3",
   "language": "python",
   "name": "python3"
  },
  "language_info": {
   "codemirror_mode": {
    "name": "ipython",
    "version": 3
   },
   "file_extension": ".py",
   "mimetype": "text/x-python",
   "name": "python",
   "nbconvert_exporter": "python",
   "pygments_lexer": "ipython3",
   "version": "3.7.4"
  },
  "toc": {
   "base_numbering": 1,
   "nav_menu": {},
   "number_sections": true,
   "sideBar": true,
   "skip_h1_title": false,
   "title_cell": "Table of Contents",
   "title_sidebar": "Contents",
   "toc_cell": false,
   "toc_position": {},
   "toc_section_display": true,
   "toc_window_display": false
  }
 },
 "nbformat": 4,
 "nbformat_minor": 2
}
