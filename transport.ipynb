{
 "cells": [
  {
   "cell_type": "code",
   "execution_count": 1,
   "metadata": {},
   "outputs": [],
   "source": [
    "# 导入模型库\n",
    "from docplex.mp.model import Model"
   ]
  },
  {
   "cell_type": "code",
   "execution_count": 2,
   "metadata": {},
   "outputs": [],
   "source": [
    "# 已知参数\n",
    "Supply = (60, 55, 51, 43, 41, 52)\n",
    "Demand = (35, 37, 22, 32, 41, 32, 43, 38)\n",
    "Cost = ((6,2,6,7,4,2,9,5),\n",
    "        (4,9,5,3,8,5,8,2),\n",
    "        (5,2,1,9,7,4,3,3),\n",
    "        (7,6,7,3,9,2,7,1),\n",
    "        (2,3,9,5,7,2,6,5),\n",
    "        (5,5,2,2,8,1,4,8))"
   ]
  },
  {
   "cell_type": "code",
   "execution_count": 3,
   "metadata": {},
   "outputs": [],
   "source": [
    "# 创建模型\n",
    "model = Model(\"transport\")"
   ]
  },
  {
   "cell_type": "code",
   "execution_count": 4,
   "metadata": {},
   "outputs": [],
   "source": [
    "# 定义决策变量:索引下标从0开始\n",
    "x = model.continuous_var_matrix(keys1=range(len(Supply)),\n",
    "                                keys2=range(len(Demand)),name=\"x\")"
   ]
  },
  {
   "cell_type": "code",
   "execution_count": 5,
   "metadata": {},
   "outputs": [
    {
     "data": {
      "text/plain": [
       "[docplex.mp.LinearConstraint[Demand0](x_0_0+x_1_0+x_2_0+x_3_0+x_4_0+x_5_0,EQ,35),\n",
       " docplex.mp.LinearConstraint[Demand1](x_0_1+x_1_1+x_2_1+x_3_1+x_4_1+x_5_1,EQ,37),\n",
       " docplex.mp.LinearConstraint[Demand2](x_0_2+x_1_2+x_2_2+x_3_2+x_4_2+x_5_2,EQ,22),\n",
       " docplex.mp.LinearConstraint[Demand3](x_0_3+x_1_3+x_2_3+x_3_3+x_4_3+x_5_3,EQ,32),\n",
       " docplex.mp.LinearConstraint[Demand4](x_0_4+x_1_4+x_2_4+x_3_4+x_4_4+x_5_4,EQ,41),\n",
       " docplex.mp.LinearConstraint[Demand5](x_0_5+x_1_5+x_2_5+x_3_5+x_4_5+x_5_5,EQ,32),\n",
       " docplex.mp.LinearConstraint[Demand6](x_0_6+x_1_6+x_2_6+x_3_6+x_4_6+x_5_6,EQ,43),\n",
       " docplex.mp.LinearConstraint[Demand7](x_0_7+x_1_7+x_2_7+x_3_7+x_4_7+x_5_7,EQ,38)]"
      ]
     },
     "execution_count": 5,
     "metadata": {},
     "output_type": "execute_result"
    }
   ],
   "source": [
    "# 添加约束条件:需求约束\n",
    "model.add_constraints([model.sum(x[(i,j)] for i in range(len(Supply))) == Demand[j] for j in range(len(Demand))],\n",
    "                     names=[\"Demand%s\" %j for j in range(len(Demand))])"
   ]
  },
  {
   "cell_type": "code",
   "execution_count": 6,
   "metadata": {},
   "outputs": [
    {
     "data": {
      "text/plain": [
       "[docplex.mp.LinearConstraint[Supply0](x_0_0+x_0_1+x_0_2+x_0_3+x_0_4+x_0_5+x_0_6+x_0_7,LE,60),\n",
       " docplex.mp.LinearConstraint[Supply1](x_1_0+x_1_1+x_1_2+x_1_3+x_1_4+x_1_5+x_1_6+x_1_7,LE,55),\n",
       " docplex.mp.LinearConstraint[Supply2](x_2_0+x_2_1+x_2_2+x_2_3+x_2_4+x_2_5+x_2_6+x_2_7,LE,51),\n",
       " docplex.mp.LinearConstraint[Supply3](x_3_0+x_3_1+x_3_2+x_3_3+x_3_4+x_3_5+x_3_6+x_3_7,LE,43),\n",
       " docplex.mp.LinearConstraint[Supply4](x_4_0+x_4_1+x_4_2+x_4_3+x_4_4+x_4_5+x_4_6+x_4_7,LE,41),\n",
       " docplex.mp.LinearConstraint[Supply5](x_5_0+x_5_1+x_5_2+x_5_3+x_5_4+x_5_5+x_5_6+x_5_7,LE,52)]"
      ]
     },
     "execution_count": 6,
     "metadata": {},
     "output_type": "execute_result"
    }
   ],
   "source": [
    "#供给约束\n",
    "model.add_constraints([model.sum(x[(i,j)] for j in range(len(Demand))) <= Supply[i] for i in range(len(Supply))],\n",
    "                     names=[\"Supply%s\" % i for i in range(len(Supply))])"
   ]
  },
  {
   "cell_type": "code",
   "execution_count": 7,
   "metadata": {},
   "outputs": [
    {
     "data": {
      "text/plain": [
       "'transport.lp'"
      ]
     },
     "execution_count": 7,
     "metadata": {},
     "output_type": "execute_result"
    }
   ],
   "source": [
    "# 导出模型\n",
    "model.export_as_lp(\"transport.lp\")"
   ]
  },
  {
   "cell_type": "code",
   "execution_count": 8,
   "metadata": {},
   "outputs": [
    {
     "ename": "DOcplexException",
     "evalue": "CPLEX runtime not found: please install CPLEX or solve this model on DOcplexcloud",
     "output_type": "error",
     "traceback": [
      "\u001b[0;31m---------------------------------------------------------------------------\u001b[0m",
      "\u001b[0;31mDOcplexException\u001b[0m                          Traceback (most recent call last)",
      "\u001b[0;32m<ipython-input-8-5731a40aec97>\u001b[0m in \u001b[0;36m<module>\u001b[0;34m\u001b[0m\n\u001b[1;32m      1\u001b[0m \u001b[0;31m# 模型求解\u001b[0m\u001b[0;34m\u001b[0m\u001b[0;34m\u001b[0m\u001b[0;34m\u001b[0m\u001b[0m\n\u001b[0;32m----> 2\u001b[0;31m \u001b[0msolution\u001b[0m \u001b[0;34m=\u001b[0m \u001b[0mmodel\u001b[0m\u001b[0;34m.\u001b[0m\u001b[0msolve\u001b[0m\u001b[0;34m(\u001b[0m\u001b[0;34m)\u001b[0m\u001b[0;34m\u001b[0m\u001b[0;34m\u001b[0m\u001b[0m\n\u001b[0m",
      "\u001b[0;32m/usr/lib/python3.8/site-packages/docplex/mp/model.py\u001b[0m in \u001b[0;36msolve\u001b[0;34m(self, **kwargs)\u001b[0m\n\u001b[1;32m   3587\u001b[0m             \u001b[0;32melse\u001b[0m\u001b[0;34m:\u001b[0m\u001b[0;34m\u001b[0m\u001b[0;34m\u001b[0m\u001b[0m\n\u001b[1;32m   3588\u001b[0m                 \u001b[0;31m# no way to solve.. really\u001b[0m\u001b[0;34m\u001b[0m\u001b[0;34m\u001b[0m\u001b[0;34m\u001b[0m\u001b[0m\n\u001b[0;32m-> 3589\u001b[0;31m                 \u001b[0;32mreturn\u001b[0m \u001b[0mself\u001b[0m\u001b[0;34m.\u001b[0m\u001b[0mfatal\u001b[0m\u001b[0;34m(\u001b[0m\u001b[0;34m\"CPLEX runtime not found: please install CPLEX or solve this model on DOcplexcloud\"\u001b[0m\u001b[0;34m)\u001b[0m\u001b[0;34m\u001b[0m\u001b[0;34m\u001b[0m\u001b[0m\n\u001b[0m\u001b[1;32m   3590\u001b[0m         \u001b[0;32mfinally\u001b[0m\u001b[0;34m:\u001b[0m\u001b[0;34m\u001b[0m\u001b[0;34m\u001b[0m\u001b[0m\n\u001b[1;32m   3591\u001b[0m             \u001b[0;32mif\u001b[0m \u001b[0msaved_log_output_stream\u001b[0m \u001b[0;34m!=\u001b[0m \u001b[0mself\u001b[0m\u001b[0;34m.\u001b[0m\u001b[0mlog_output\u001b[0m\u001b[0;34m:\u001b[0m\u001b[0;34m\u001b[0m\u001b[0;34m\u001b[0m\u001b[0m\n",
      "\u001b[0;32m/usr/lib/python3.8/site-packages/docplex/mp/model.py\u001b[0m in \u001b[0;36mfatal\u001b[0;34m(self, msg, *args)\u001b[0m\n\u001b[1;32m    774\u001b[0m \u001b[0;34m\u001b[0m\u001b[0m\n\u001b[1;32m    775\u001b[0m     \u001b[0;32mdef\u001b[0m \u001b[0mfatal\u001b[0m\u001b[0;34m(\u001b[0m\u001b[0mself\u001b[0m\u001b[0;34m,\u001b[0m \u001b[0mmsg\u001b[0m\u001b[0;34m,\u001b[0m \u001b[0;34m*\u001b[0m\u001b[0margs\u001b[0m\u001b[0;34m)\u001b[0m\u001b[0;34m:\u001b[0m\u001b[0;34m\u001b[0m\u001b[0;34m\u001b[0m\u001b[0m\n\u001b[0;32m--> 776\u001b[0;31m         \u001b[0mself\u001b[0m\u001b[0;34m.\u001b[0m\u001b[0m_error_handler\u001b[0m\u001b[0;34m.\u001b[0m\u001b[0mfatal\u001b[0m\u001b[0;34m(\u001b[0m\u001b[0mmsg\u001b[0m\u001b[0;34m,\u001b[0m \u001b[0margs\u001b[0m\u001b[0;34m)\u001b[0m\u001b[0;34m\u001b[0m\u001b[0;34m\u001b[0m\u001b[0m\n\u001b[0m\u001b[1;32m    777\u001b[0m \u001b[0;34m\u001b[0m\u001b[0m\n\u001b[1;32m    778\u001b[0m     \u001b[0;32mdef\u001b[0m \u001b[0mfatal_ce_limits\u001b[0m\u001b[0;34m(\u001b[0m\u001b[0mself\u001b[0m\u001b[0;34m,\u001b[0m \u001b[0;34m*\u001b[0m\u001b[0margs\u001b[0m\u001b[0;34m)\u001b[0m\u001b[0;34m:\u001b[0m\u001b[0;34m\u001b[0m\u001b[0;34m\u001b[0m\u001b[0m\n",
      "\u001b[0;32m/usr/lib/python3.8/site-packages/docplex/mp/error_handler.py\u001b[0m in \u001b[0;36mfatal\u001b[0;34m(self, msg, args)\u001b[0m\n\u001b[1;32m    208\u001b[0m         \u001b[0mresolved_message\u001b[0m \u001b[0;34m=\u001b[0m \u001b[0mresolve_pattern\u001b[0m\u001b[0;34m(\u001b[0m\u001b[0mmsg\u001b[0m\u001b[0;34m,\u001b[0m \u001b[0margs\u001b[0m\u001b[0;34m)\u001b[0m\u001b[0;34m\u001b[0m\u001b[0;34m\u001b[0m\u001b[0m\n\u001b[1;32m    209\u001b[0m         \u001b[0mdocplex_error_stop_here\u001b[0m\u001b[0;34m(\u001b[0m\u001b[0;34m)\u001b[0m\u001b[0;34m\u001b[0m\u001b[0;34m\u001b[0m\u001b[0m\n\u001b[0;32m--> 210\u001b[0;31m         \u001b[0;32mraise\u001b[0m \u001b[0mDOcplexException\u001b[0m\u001b[0;34m(\u001b[0m\u001b[0mresolved_message\u001b[0m\u001b[0;34m)\u001b[0m\u001b[0;34m\u001b[0m\u001b[0;34m\u001b[0m\u001b[0m\n\u001b[0m\u001b[1;32m    211\u001b[0m \u001b[0;34m\u001b[0m\u001b[0m\n\u001b[1;32m    212\u001b[0m     \u001b[0;32mdef\u001b[0m \u001b[0mfatal_limits_exceeded\u001b[0m\u001b[0;34m(\u001b[0m\u001b[0mself\u001b[0m\u001b[0;34m)\u001b[0m\u001b[0;34m:\u001b[0m\u001b[0;34m\u001b[0m\u001b[0;34m\u001b[0m\u001b[0m\n",
      "\u001b[0;31mDOcplexException\u001b[0m: CPLEX runtime not found: please install CPLEX or solve this model on DOcplexcloud"
     ]
    }
   ],
   "source": [
    "# 模型求解\n",
    "solution = model.solve()"
   ]
  },
  {
   "cell_type": "code",
   "execution_count": null,
   "metadata": {},
   "outputs": [],
   "source": []
  }
 ],
 "metadata": {
  "kernelspec": {
   "display_name": "Python 3",
   "language": "python",
   "name": "python3"
  },
  "language_info": {
   "codemirror_mode": {
    "name": "ipython",
    "version": 3
   },
   "file_extension": ".py",
   "mimetype": "text/x-python",
   "name": "python",
   "nbconvert_exporter": "python",
   "pygments_lexer": "ipython3",
   "version": "3.8.1"
  }
 },
 "nbformat": 4,
 "nbformat_minor": 2
}
